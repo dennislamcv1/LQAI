{
 "cells": [
  {
   "cell_type": "markdown",
   "metadata": {
    "deletable": false,
    "editable": false,
    "nbgrader": {
     "cell_type": "markdown",
     "checksum": "31849577e1aa37c5e204f65ccb2be5b2",
     "grade": false,
     "grade_id": "cell-2515f8fe687c2a1c",
     "locked": true,
     "schema_version": 3,
     "solution": false,
     "task": false
    }
   },
   "source": [
    "## Predicting bit scores\n",
    "\n",
    "In this final notebook, we'll be predicting 'bit_score' from some of the columns in the data."
   ]
  },
  {
   "cell_type": "code",
   "execution_count": null,
   "metadata": {
    "deletable": false,
    "editable": false,
    "nbgrader": {
     "cell_type": "code",
     "checksum": "b17c3fd4330090e434035b9198eaf23b",
     "grade": false,
     "grade_id": "cell-31ee5aae20bda0db",
     "locked": true,
     "schema_version": 3,
     "solution": false,
     "task": false
    }
   },
   "outputs": [],
   "source": [
    "### Loading in data\n",
    "\n",
    "import pandas as pd\n",
    "import numpy as np\n",
    "import seaborn as sns\n",
    "import matplotlib.pyplot as plt"
   ]
  },
  {
   "cell_type": "code",
   "execution_count": null,
   "metadata": {
    "deletable": false,
    "editable": false,
    "nbgrader": {
     "cell_type": "code",
     "checksum": "380bf802a1d9ac9b1eb68dcb8dd1709a",
     "grade": false,
     "grade_id": "cell-302b22375cb8e1ae",
     "locked": true,
     "schema_version": 3,
     "solution": false,
     "task": false
    }
   },
   "outputs": [],
   "source": [
    "### Reading in data. We'll store our data in dataframe called 'df'.\n",
    "\n",
    "df = pd.read_csv('Alignment-HitTable.csv', header = None)\n",
    "df.columns = ['query acc.verr', 'subject acc.ver', '% identity', 'alignment length', 'mismatches', \n",
    "             'gap opens', 'q. start', 'q. end', 's. start', 's. end', 'evalue', 'bit score']\n",
    "df.head()"
   ]
  },
  {
   "cell_type": "code",
   "execution_count": null,
   "metadata": {
    "deletable": false,
    "nbgrader": {
     "cell_type": "code",
     "checksum": "9b3bbc56e58d3d41b5bfa656ef4bc710",
     "grade": false,
     "grade_id": "cell-59bbd3ee0ebd0c19",
     "locked": false,
     "schema_version": 3,
     "solution": true,
     "task": false
    }
   },
   "outputs": [],
   "source": [
    "## Part A (25 pts)\n",
    "\n",
    "## In this final notebook, we'll be predicting 'bit_score' from some of the columns in the data.\n",
    "## Create a feature dataframe called 'X' with the columns: ['% identity',  'mismatches', 'gap opens', 'q. start', 's. start'].\n",
    "## Store the target 'y' with the bit scores.\n",
    "\n",
    "# your code here\n"
   ]
  },
  {
   "cell_type": "code",
   "execution_count": null,
   "metadata": {
    "deletable": false,
    "editable": false,
    "nbgrader": {
     "cell_type": "code",
     "checksum": "64962ad811b23ace893c06463da29bff",
     "grade": true,
     "grade_id": "cell-7579ab59ab6ceb55",
     "locked": true,
     "points": 25,
     "schema_version": 3,
     "solution": false,
     "task": false
    }
   },
   "outputs": [],
   "source": []
  },
  {
   "cell_type": "code",
   "execution_count": null,
   "metadata": {
    "deletable": false,
    "nbgrader": {
     "cell_type": "code",
     "checksum": "64f9ae21a00d5f56602d10178abce7b2",
     "grade": false,
     "grade_id": "cell-29637a39a0ea7178",
     "locked": false,
     "schema_version": 3,
     "solution": true,
     "task": false
    }
   },
   "outputs": [],
   "source": [
    "## Part B (15 pts)\n",
    "\n",
    "### Use the Standard Scaler from the sklearn.preprocessing library to normalize the data.\n",
    "## Store the transformed X data in a variable called 'X_transformed'.\n",
    "\n",
    "from sklearn.preprocessing import StandardScaler\n",
    "\n",
    "# your code here\n"
   ]
  },
  {
   "cell_type": "code",
   "execution_count": null,
   "metadata": {
    "deletable": false,
    "editable": false,
    "nbgrader": {
     "cell_type": "code",
     "checksum": "a5a1966a9dfffd3edaeb4d183bd9e890",
     "grade": true,
     "grade_id": "cell-d6e4d93bbeebbe65",
     "locked": true,
     "points": 15,
     "schema_version": 3,
     "solution": false,
     "task": false
    }
   },
   "outputs": [],
   "source": []
  },
  {
   "cell_type": "code",
   "execution_count": null,
   "metadata": {
    "deletable": false,
    "nbgrader": {
     "cell_type": "code",
     "checksum": "50f8d80c82c40d49a0de09e6c37ead30",
     "grade": false,
     "grade_id": "cell-afa745146ba1401b",
     "locked": false,
     "schema_version": 3,
     "solution": true,
     "task": false
    }
   },
   "outputs": [],
   "source": [
    "## Part C (25 pts)\n",
    "\n",
    "## Predict the bit score by fitting a linear regression model. Store the predicted bit scores in\n",
    "## a variable called 'lin_pred'. Get the score in a variable called 'lin_score'. \n",
    "## Store the linear regression coefficients in a variable called 'coef'.\n",
    "\n",
    "# your code here\n"
   ]
  },
  {
   "cell_type": "code",
   "execution_count": null,
   "metadata": {
    "deletable": false,
    "editable": false,
    "nbgrader": {
     "cell_type": "code",
     "checksum": "5f227c8f3da7c3bfe6f20d2653f2e048",
     "grade": true,
     "grade_id": "cell-ddb3aea94871dc16",
     "locked": true,
     "points": 25,
     "schema_version": 3,
     "solution": false,
     "task": false
    }
   },
   "outputs": [],
   "source": []
  },
  {
   "cell_type": "code",
   "execution_count": null,
   "metadata": {
    "deletable": false,
    "nbgrader": {
     "cell_type": "code",
     "checksum": "1fe771adc501e89a8b17639db89acf14",
     "grade": false,
     "grade_id": "cell-1d7f6b2bc4f02581",
     "locked": false,
     "schema_version": 3,
     "solution": true,
     "task": false
    }
   },
   "outputs": [],
   "source": [
    "## Part D (35 pts)\n",
    "\n",
    "## Split the data into a train/test set using the sklearn train/test split with a random state of 42.\n",
    "## Predict the bit score by fitting a neural network MP regression model. \n",
    "## Use a random state of 42, 3 hidden layers each of size 50, and a 'sgd' solver.\n",
    "## Store the predicted bit scores of the test set in a variable called 'nn_pred'. \n",
    "## Get the score on the test set in a variable called 'nn_score'. \n",
    "\n",
    "# your code here\n"
   ]
  },
  {
   "cell_type": "code",
   "execution_count": null,
   "metadata": {
    "deletable": false,
    "editable": false,
    "nbgrader": {
     "cell_type": "code",
     "checksum": "efd85df20c476a713c61fa26af08f2da",
     "grade": true,
     "grade_id": "cell-1ba1b455719c9efc",
     "locked": true,
     "points": 35,
     "schema_version": 3,
     "solution": false,
     "task": false
    }
   },
   "outputs": [],
   "source": []
  }
 ],
 "metadata": {
  "kernelspec": {
   "display_name": "Python 3",
   "language": "python",
   "name": "python3"
  },
  "language_info": {
   "codemirror_mode": {
    "name": "ipython",
    "version": 3
   },
   "file_extension": ".py",
   "mimetype": "text/x-python",
   "name": "python",
   "nbconvert_exporter": "python",
   "pygments_lexer": "ipython3",
   "version": "3.7.6"
  }
 },
 "nbformat": 4,
 "nbformat_minor": 4
}
