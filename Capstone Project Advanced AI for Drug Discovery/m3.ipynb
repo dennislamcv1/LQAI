{
 "cells": [
  {
   "cell_type": "markdown",
   "metadata": {
    "deletable": false,
    "editable": false,
    "nbgrader": {
     "cell_type": "markdown",
     "checksum": "d8512336e48185ac93c20fe259c16ae6",
     "grade": false,
     "grade_id": "cell-d6f87c0400a4161d",
     "locked": true,
     "schema_version": 3,
     "solution": false,
     "task": false
    }
   },
   "source": [
    "## K-means clustering\n",
    "\n",
    "In this notebook, we'll cluster sequences to find similar sequences with similar patterns."
   ]
  },
  {
   "cell_type": "code",
   "execution_count": 1,
   "metadata": {
    "deletable": false,
    "editable": false,
    "nbgrader": {
     "cell_type": "code",
     "checksum": "9bb56e548fb11a2ab806d6edf54ece4c",
     "grade": false,
     "grade_id": "cell-61654ec5a7c91faa",
     "locked": true,
     "schema_version": 3,
     "solution": false,
     "task": false
    }
   },
   "outputs": [],
   "source": [
    "### Loading in libraries and packages\n",
    "\n",
    "import pandas as pd\n",
    "import numpy as np\n",
    "import seaborn as sns\n",
    "import matplotlib.pyplot as plt\n",
    "from sklearn.cluster import KMeans"
   ]
  },
  {
   "cell_type": "code",
   "execution_count": 2,
   "metadata": {
    "deletable": false,
    "editable": false,
    "nbgrader": {
     "cell_type": "code",
     "checksum": "9d9acd04652b7a0c3c96cdb2ead504c1",
     "grade": false,
     "grade_id": "cell-dabac1cbf04f8904",
     "locked": true,
     "schema_version": 3,
     "solution": false,
     "task": false
    }
   },
   "outputs": [
    {
     "data": {
      "text/html": [
       "<div>\n",
       "<style scoped>\n",
       "    .dataframe tbody tr th:only-of-type {\n",
       "        vertical-align: middle;\n",
       "    }\n",
       "\n",
       "    .dataframe tbody tr th {\n",
       "        vertical-align: top;\n",
       "    }\n",
       "\n",
       "    .dataframe thead th {\n",
       "        text-align: right;\n",
       "    }\n",
       "</style>\n",
       "<table border=\"1\" class=\"dataframe\">\n",
       "  <thead>\n",
       "    <tr style=\"text-align: right;\">\n",
       "      <th></th>\n",
       "      <th>query acc.verr</th>\n",
       "      <th>subject acc.ver</th>\n",
       "      <th>% identity</th>\n",
       "      <th>alignment length</th>\n",
       "      <th>mismatches</th>\n",
       "      <th>gap opens</th>\n",
       "      <th>q. start</th>\n",
       "      <th>q. end</th>\n",
       "      <th>s. start</th>\n",
       "      <th>s. end</th>\n",
       "      <th>evalue</th>\n",
       "      <th>bit score</th>\n",
       "    </tr>\n",
       "  </thead>\n",
       "  <tbody>\n",
       "    <tr>\n",
       "      <th>0</th>\n",
       "      <td>MN997409.1</td>\n",
       "      <td>MN997409.1</td>\n",
       "      <td>100.00</td>\n",
       "      <td>29882</td>\n",
       "      <td>0</td>\n",
       "      <td>0</td>\n",
       "      <td>1</td>\n",
       "      <td>29882</td>\n",
       "      <td>1</td>\n",
       "      <td>29882</td>\n",
       "      <td>0.0</td>\n",
       "      <td>55182</td>\n",
       "    </tr>\n",
       "    <tr>\n",
       "      <th>1</th>\n",
       "      <td>MN997409.1</td>\n",
       "      <td>MT020881.1</td>\n",
       "      <td>99.99</td>\n",
       "      <td>29882</td>\n",
       "      <td>3</td>\n",
       "      <td>0</td>\n",
       "      <td>1</td>\n",
       "      <td>29882</td>\n",
       "      <td>1</td>\n",
       "      <td>29882</td>\n",
       "      <td>0.0</td>\n",
       "      <td>55166</td>\n",
       "    </tr>\n",
       "    <tr>\n",
       "      <th>2</th>\n",
       "      <td>MN997409.1</td>\n",
       "      <td>MT020880.1</td>\n",
       "      <td>99.99</td>\n",
       "      <td>29882</td>\n",
       "      <td>3</td>\n",
       "      <td>0</td>\n",
       "      <td>1</td>\n",
       "      <td>29882</td>\n",
       "      <td>1</td>\n",
       "      <td>29882</td>\n",
       "      <td>0.0</td>\n",
       "      <td>55166</td>\n",
       "    </tr>\n",
       "    <tr>\n",
       "      <th>3</th>\n",
       "      <td>MN997409.1</td>\n",
       "      <td>MN985325.1</td>\n",
       "      <td>99.99</td>\n",
       "      <td>29882</td>\n",
       "      <td>3</td>\n",
       "      <td>0</td>\n",
       "      <td>1</td>\n",
       "      <td>29882</td>\n",
       "      <td>1</td>\n",
       "      <td>29882</td>\n",
       "      <td>0.0</td>\n",
       "      <td>55166</td>\n",
       "    </tr>\n",
       "    <tr>\n",
       "      <th>4</th>\n",
       "      <td>MN997409.1</td>\n",
       "      <td>MN975262.1</td>\n",
       "      <td>99.99</td>\n",
       "      <td>29882</td>\n",
       "      <td>3</td>\n",
       "      <td>0</td>\n",
       "      <td>1</td>\n",
       "      <td>29882</td>\n",
       "      <td>1</td>\n",
       "      <td>29882</td>\n",
       "      <td>0.0</td>\n",
       "      <td>55166</td>\n",
       "    </tr>\n",
       "  </tbody>\n",
       "</table>\n",
       "</div>"
      ],
      "text/plain": [
       "  query acc.verr subject acc.ver  % identity  alignment length  mismatches  \\\n",
       "0     MN997409.1      MN997409.1      100.00             29882           0   \n",
       "1     MN997409.1      MT020881.1       99.99             29882           3   \n",
       "2     MN997409.1      MT020880.1       99.99             29882           3   \n",
       "3     MN997409.1      MN985325.1       99.99             29882           3   \n",
       "4     MN997409.1      MN975262.1       99.99             29882           3   \n",
       "\n",
       "   gap opens  q. start  q. end  s. start  s. end  evalue  bit score  \n",
       "0          0         1   29882         1   29882     0.0      55182  \n",
       "1          0         1   29882         1   29882     0.0      55166  \n",
       "2          0         1   29882         1   29882     0.0      55166  \n",
       "3          0         1   29882         1   29882     0.0      55166  \n",
       "4          0         1   29882         1   29882     0.0      55166  "
      ]
     },
     "execution_count": 2,
     "metadata": {},
     "output_type": "execute_result"
    }
   ],
   "source": [
    "### Read in data. We'll store our data in a dataframe called 'df'\n",
    "\n",
    "df = pd.read_csv('Alignment-HitTable.csv', header = None)\n",
    "df.columns = ['query acc.verr', 'subject acc.ver', '% identity', 'alignment length', 'mismatches', \n",
    "             'gap opens', 'q. start', 'q. end', 's. start', 's. end', 'evalue', 'bit score']\n",
    "df.head()"
   ]
  },
  {
   "cell_type": "code",
   "execution_count": 3,
   "metadata": {
    "deletable": false,
    "nbgrader": {
     "cell_type": "code",
     "checksum": "b86006ee1c3dfc2c3dadb36b41c72950",
     "grade": false,
     "grade_id": "cell-2a43861f4bcb3773",
     "locked": false,
     "schema_version": 3,
     "solution": true,
     "task": false
    }
   },
   "outputs": [],
   "source": [
    "## Part A (25 pts)\n",
    "\n",
    "## Fit a K-means clustering with 5 clusters and a random state of 10 on the numeric columns in the dataframe.\n",
    "## Store the predicted groups in a variable called 'y_pred'. \n",
    "\n",
    "# your code here\n",
    "df_numeric = df[['% identity', 'alignment length', 'mismatches', 'gap opens', 'q. start', 'q. end',\n",
    "        's. start', 's. end', 'evalue', 'bit score']]\n",
    "\n",
    "kmeans = KMeans(n_clusters=5, random_state=10).fit(df_numeric)\n",
    "y_pred = kmeans.predict(df_numeric)\n",
    "cluster_labels = kmeans.fit_predict(df_numeric)"
   ]
  },
  {
   "cell_type": "code",
   "execution_count": null,
   "metadata": {
    "deletable": false,
    "editable": false,
    "nbgrader": {
     "cell_type": "code",
     "checksum": "147014b2ae303c8a22f7be14f5992936",
     "grade": true,
     "grade_id": "cell-e019a4390bf65c7b",
     "locked": true,
     "points": 25,
     "schema_version": 3,
     "solution": false,
     "task": false
    }
   },
   "outputs": [],
   "source": []
  },
  {
   "cell_type": "code",
   "execution_count": 4,
   "metadata": {
    "deletable": false,
    "nbgrader": {
     "cell_type": "code",
     "checksum": "3a10366bf861d1f1535d2e3de71a56a6",
     "grade": false,
     "grade_id": "cell-3c110c0e37f48ea1",
     "locked": false,
     "schema_version": 3,
     "solution": true,
     "task": false
    }
   },
   "outputs": [
    {
     "data": {
      "text/plain": [
       "0.9631789756168802"
      ]
     },
     "execution_count": 4,
     "metadata": {},
     "output_type": "execute_result"
    }
   ],
   "source": [
    "### Part B (15 pts)\n",
    "\n",
    "## Store the silhouette score on the predicted groups in a variable called 'score'.\n",
    "## Hint: Use https://scikit-learn.org/stable/modules/generated/sklearn.metrics.silhouette_score.html\n",
    "\n",
    "# your code here\n",
    "from sklearn.metrics import silhouette_score\n",
    "score = silhouette_score(df_numeric,labels=cluster_labels,random_state=10)\n",
    "score"
   ]
  },
  {
   "cell_type": "code",
   "execution_count": null,
   "metadata": {
    "deletable": false,
    "editable": false,
    "nbgrader": {
     "cell_type": "code",
     "checksum": "262754e0ea891c6231bb06369838c8bf",
     "grade": true,
     "grade_id": "cell-2ccd558f0c89c84e",
     "locked": true,
     "points": 15,
     "schema_version": 3,
     "solution": false,
     "task": false
    }
   },
   "outputs": [],
   "source": []
  },
  {
   "cell_type": "code",
   "execution_count": 5,
   "metadata": {
    "deletable": false,
    "nbgrader": {
     "cell_type": "code",
     "checksum": "911efe17f5166082a9c36740dc8288aa",
     "grade": false,
     "grade_id": "cell-d5a8840325b34617",
     "locked": false,
     "schema_version": 3,
     "solution": true,
     "task": false
    }
   },
   "outputs": [],
   "source": [
    "## Part C (30 pts)\n",
    "\n",
    "## Store the silhouette scores for clusters 2 to 9 in a list called 'silhouette_scores'.\n",
    "## Use a random state of 0 for each prediction.\n",
    "\n",
    "# your code here\n",
    "silhouette_scores = []\n",
    "\n",
    "for i in range(2,10):\n",
    "    clusterer = KMeans(n_clusters=i, random_state=0)\n",
    "    cluster_labels = clusterer.fit_predict(df_numeric)\n",
    "    x = silhouette_score(df_numeric, cluster_labels, random_state=0)\n",
    "    silhouette_scores.append(x)"
   ]
  },
  {
   "cell_type": "code",
   "execution_count": 6,
   "metadata": {
    "deletable": false,
    "editable": false,
    "nbgrader": {
     "cell_type": "code",
     "checksum": "2eedb9cebc7ff717f4310cfeae866637",
     "grade": true,
     "grade_id": "cell-009521ae52060403",
     "locked": true,
     "points": 30,
     "schema_version": 3,
     "solution": false,
     "task": false
    }
   },
   "outputs": [
    {
     "data": {
      "image/png": "[encoded data removed]",
      "text/plain": [
       "<Figure size 432x288 with 1 Axes>"
      ]
     },
     "metadata": {
      "needs_background": "light"
     },
     "output_type": "display_data"
    }
   ],
   "source": [
    "plt.bar(range(2, len(silhouette_scores) +2), silhouette_scores)\n",
    "plt.show()"
   ]
  },
  {
   "cell_type": "code",
   "execution_count": 7,
   "metadata": {
    "deletable": false,
    "nbgrader": {
     "cell_type": "code",
     "checksum": "e9748465e175cf78ae7647c2b5dd1b01",
     "grade": false,
     "grade_id": "cell-d2ff170a7281f9cb",
     "locked": false,
     "schema_version": 3,
     "solution": true,
     "task": false
    }
   },
   "outputs": [
    {
     "data": {
      "text/html": [
       "<div>\n",
       "<style scoped>\n",
       "    .dataframe tbody tr th:only-of-type {\n",
       "        vertical-align: middle;\n",
       "    }\n",
       "\n",
       "    .dataframe tbody tr th {\n",
       "        vertical-align: top;\n",
       "    }\n",
       "\n",
       "    .dataframe thead th {\n",
       "        text-align: right;\n",
       "    }\n",
       "</style>\n",
       "<table border=\"1\" class=\"dataframe\">\n",
       "  <thead>\n",
       "    <tr style=\"text-align: right;\">\n",
       "      <th></th>\n",
       "      <th>% identity</th>\n",
       "      <th>alignment length</th>\n",
       "      <th>mismatches</th>\n",
       "      <th>gap opens</th>\n",
       "      <th>q. start</th>\n",
       "      <th>q. end</th>\n",
       "      <th>s. start</th>\n",
       "      <th>s. end</th>\n",
       "      <th>evalue</th>\n",
       "      <th>bit score</th>\n",
       "    </tr>\n",
       "  </thead>\n",
       "  <tbody>\n",
       "    <tr>\n",
       "      <th>Cluster 1</th>\n",
       "      <td>-0.870350</td>\n",
       "      <td>-0.832821</td>\n",
       "      <td>-0.516444</td>\n",
       "      <td>-0.399602</td>\n",
       "      <td>-0.939626</td>\n",
       "      <td>-1.882316</td>\n",
       "      <td>-0.938606</td>\n",
       "      <td>-1.881958</td>\n",
       "      <td>0.0</td>\n",
       "      <td>-0.670826</td>\n",
       "    </tr>\n",
       "    <tr>\n",
       "      <th>Cluster 2</th>\n",
       "      <td>0.567963</td>\n",
       "      <td>-0.836261</td>\n",
       "      <td>-0.700122</td>\n",
       "      <td>-0.750690</td>\n",
       "      <td>1.383502</td>\n",
       "      <td>0.736628</td>\n",
       "      <td>1.383326</td>\n",
       "      <td>0.731892</td>\n",
       "      <td>0.0</td>\n",
       "      <td>-0.609998</td>\n",
       "    </tr>\n",
       "    <tr>\n",
       "      <th>Cluster 3</th>\n",
       "      <td>1.831476</td>\n",
       "      <td>1.805691</td>\n",
       "      <td>-0.842913</td>\n",
       "      <td>-0.953267</td>\n",
       "      <td>-0.940923</td>\n",
       "      <td>0.726534</td>\n",
       "      <td>-0.938919</td>\n",
       "      <td>0.735923</td>\n",
       "      <td>0.0</td>\n",
       "      <td>2.113035</td>\n",
       "    </tr>\n",
       "    <tr>\n",
       "      <th>Cluster 4</th>\n",
       "      <td>-0.463023</td>\n",
       "      <td>0.674308</td>\n",
       "      <td>1.844861</td>\n",
       "      <td>1.765292</td>\n",
       "      <td>-0.618618</td>\n",
       "      <td>-0.036828</td>\n",
       "      <td>-0.622000</td>\n",
       "      <td>-0.037405</td>\n",
       "      <td>0.0</td>\n",
       "      <td>0.066769</td>\n",
       "    </tr>\n",
       "    <tr>\n",
       "      <th>Cluster 5</th>\n",
       "      <td>-0.787871</td>\n",
       "      <td>-0.500757</td>\n",
       "      <td>0.067143</td>\n",
       "      <td>0.177795</td>\n",
       "      <td>0.936400</td>\n",
       "      <td>0.560857</td>\n",
       "      <td>0.937356</td>\n",
       "      <td>0.558123</td>\n",
       "      <td>0.0</td>\n",
       "      <td>-0.535366</td>\n",
       "    </tr>\n",
       "  </tbody>\n",
       "</table>\n",
       "</div>"
      ],
      "text/plain": [
       "           % identity  alignment length  mismatches  gap opens  q. start  \\\n",
       "Cluster 1   -0.870350         -0.832821   -0.516444  -0.399602 -0.939626   \n",
       "Cluster 2    0.567963         -0.836261   -0.700122  -0.750690  1.383502   \n",
       "Cluster 3    1.831476          1.805691   -0.842913  -0.953267 -0.940923   \n",
       "Cluster 4   -0.463023          0.674308    1.844861   1.765292 -0.618618   \n",
       "Cluster 5   -0.787871         -0.500757    0.067143   0.177795  0.936400   \n",
       "\n",
       "             q. end  s. start    s. end  evalue  bit score  \n",
       "Cluster 1 -1.882316 -0.938606 -1.881958     0.0  -0.670826  \n",
       "Cluster 2  0.736628  1.383326  0.731892     0.0  -0.609998  \n",
       "Cluster 3  0.726534 -0.938919  0.735923     0.0   2.113035  \n",
       "Cluster 4 -0.036828 -0.622000 -0.037405     0.0   0.066769  \n",
       "Cluster 5  0.560857  0.937356  0.558123     0.0  -0.535366  "
      ]
     },
     "execution_count": 7,
     "metadata": {},
     "output_type": "execute_result"
    }
   ],
   "source": [
    "## Part D (30 pts)\n",
    "\n",
    "## Use a K-means clustering with 5 clusters on the normalized numeric dataframe. Use a random state of 0.\n",
    "## Hint: Use the https://scikit-learn.org/stable/modules/generated/sklearn.preprocessing.StandardScaler.html to scale the data.\n",
    "## Store the cluster centers in a dataframe called 'cluster_centers'. \n",
    "## Use the index ['Cluster 1', 'Cluster 2', 'Cluster 3', 'Cluster 4', 'Cluster 5'] on the dataframe.\n",
    "\n",
    "# your code here\n",
    "from sklearn.preprocessing import StandardScaler\n",
    "\n",
    "scaler = StandardScaler()\n",
    "\n",
    "df_numeric_scaled = scaler.fit_transform(df_numeric)\n",
    "\n",
    "kmeans = KMeans(n_clusters=5, random_state=0).fit(df_numeric_scaled)\n",
    "y_pred = kmeans.predict(df_numeric_scaled)\n",
    "cluster_labels = kmeans.fit_predict(df_numeric_scaled)\n",
    "cluster_centers = pd.DataFrame(kmeans.cluster_centers_, \n",
    "                               index=['Cluster 1', 'Cluster 2', 'Cluster 3', 'Cluster 4', 'Cluster 5'],\n",
    "                               columns=df_numeric.columns)\n",
    "cluster_centers"
   ]
  },
  {
   "cell_type": "code",
   "execution_count": null,
   "metadata": {
    "deletable": false,
    "editable": false,
    "nbgrader": {
     "cell_type": "code",
     "checksum": "f518bf16c6ab50fa97a324e1b14839fc",
     "grade": true,
     "grade_id": "cell-ea4a751ab243171f",
     "locked": true,
     "points": 30,
     "schema_version": 3,
     "solution": false,
     "task": false
    }
   },
   "outputs": [],
   "source": []
  }
 ],
 "metadata": {
  "kernelspec": {
   "display_name": "Python 3",
   "language": "python",
   "name": "python3"
  },
  "language_info": {
   "codemirror_mode": {
    "name": "ipython",
    "version": 3
   },
   "file_extension": ".py",
   "mimetype": "text/x-python",
   "name": "python",
   "nbconvert_exporter": "python",
   "pygments_lexer": "ipython3",
   "version": "3.7.6"
  }
 },
 "nbformat": 4,
 "nbformat_minor": 4
}
