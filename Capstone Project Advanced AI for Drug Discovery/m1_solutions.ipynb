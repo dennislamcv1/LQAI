{
 "cells": [
  {
   "cell_type": "markdown",
   "metadata": {},
   "source": [
    "## Gene Sequencing\n",
    "\n",
    "In this notebook, we will load in part of a genome sequence and search for patterns. Let's get started."
   ]
  },
  {
   "cell_type": "code",
   "execution_count": 1,
   "metadata": {},
   "outputs": [],
   "source": [
    "### Importing packages and reading in data.\n",
    "### Genome sequencing data is stored in the dataframe pn.\n",
    "### Notice how each column has separate sequencing data.\n",
    "### Our goal will be to find similarities between the sequences and characterize it.\n",
    "\n",
    "import pandas as pd\n",
    "import numpy as np\n",
    "\n",
    "pn = pd.read_csv('SARS_CORONAVIRUS_NC_045512_sequence.fasta', header = None)[1:][0]\n",
    "pn = pd.DataFrame(pn)\n",
    "pn.columns = ['Genome Sequence']"
   ]
  },
  {
   "cell_type": "code",
   "execution_count": 2,
   "metadata": {},
   "outputs": [],
   "source": [
    "## Part A (20 pts):\n",
    "\n",
    "## How many letters are in each sequence? Find the length of the sequence in each row and store the results in a new\n",
    "## column called ['Length']. Then, find the median length of these genome sequences and store it \n",
    "## in a variable called 'median_len'. Delete all rows that are not of this length.\n",
    "\n",
    "pn['Length'] = pn['Genome Sequence'].apply(lambda x: len(x))\n",
    "mid_length = np.median(pn['Length'])\n",
    "pn = pn[pn.Length == mid_length]"
   ]
  },
  {
   "cell_type": "code",
   "execution_count": 3,
   "metadata": {},
   "outputs": [],
   "source": [
    "## Part B (20 pts):\n",
    "\n",
    "## Create a new column titled 'Match?' with a 1/0 corresponding to whether or not the sequence\n",
    "## contains the substring 'TAATTTAGGCATGCCTT'.\n",
    "\n",
    "pn['Match?'] = pn['Genome Sequence'].apply(lambda x: x.find('TAATTTAGGCATGCCTT'))\n",
    "pn['Match?'] = pn['Match?'].apply(lambda x: 0 if x == -1 else 1)"
   ]
  },
  {
   "cell_type": "code",
   "execution_count": 4,
   "metadata": {},
   "outputs": [],
   "source": [
    "## Part C (35 pts):\n",
    "\n",
    "## Create a matrix called 'differences' storing the number of differences in the sequences between the rows.\n",
    "\n",
    "def diff_letters(a,b):\n",
    "    return sum ( a[i] != b[i] for i in range(len(a)) )\n",
    "\n",
    "differences = []\n",
    "for name, row in pn.iterrows():\n",
    "    temp_diff = []\n",
    "    for j in range(len(pn)):\n",
    "        temp_diff.append(diff_letters(row[0], pn.iloc[j]['Genome Sequence']))\n",
    "    differences.append(temp_diff) "
   ]
  },
  {
   "cell_type": "code",
   "execution_count": 5,
   "metadata": {},
   "outputs": [],
   "source": [
    "## Part D (25 pts):\n",
    "\n",
    "## Find the two genome sequences that are most similar. Store them in a tuple called 'similar' with the format (row1, row2).\n",
    "\n",
    "min_val = 1000\n",
    "similar = 0\n",
    "for i in range(len(differences)):\n",
    "    for j in range(len(differences[0])):\n",
    "        if differences[i][j] < min_val and differences[i][j] != 0:\n",
    "            min_val = differences[i][j]\n",
    "            similar = (i,j)"
   ]
  }
 ],
 "metadata": {
  "kernelspec": {
   "display_name": "Python 3",
   "language": "python",
   "name": "python3"
  },
  "language_info": {
   "codemirror_mode": {
    "name": "ipython",
    "version": 3
   },
   "file_extension": ".py",
   "mimetype": "text/x-python",
   "name": "python",
   "nbconvert_exporter": "python",
   "pygments_lexer": "ipython3",
   "version": "3.8.8"
  }
 },
 "nbformat": 4,
 "nbformat_minor": 4
}
