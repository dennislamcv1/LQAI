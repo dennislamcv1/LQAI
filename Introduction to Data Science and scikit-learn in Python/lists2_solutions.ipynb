{
 "cells": [
  {
   "cell_type": "code",
   "execution_count": 1,
   "metadata": {},
   "outputs": [],
   "source": [
    "'''\n",
    "a) Create a list called 'moons' with the following items: \n",
    "'Europa', 'Ganymede', 'Io', 'Callisto', 'Amalthea', 'Himalia', 'Adrastea', 'Thebe', 'Valetudo'\n",
    "'''\n",
    "moons = ['Europa', 'Ganymede', 'Io', 'Callisto', 'Amalthea', 'Himalia', 'Adrastea', 'Thebe', 'Valetudo']\n",
    "\n",
    "'''\n",
    "b) Then, store the 3rd-5th items in another list called 'moons_subset'.\n",
    "'''\n",
    "moons_subset = moons[2:5]\n",
    "\n",
    "'''\n",
    "c) Append the last element of \"moons\" to \"moons_subset\"\n",
    "'''\n",
    "moons_subset.append(moons[-1])"
   ]
  },
  {
   "cell_type": "code",
   "execution_count": null,
   "metadata": {},
   "outputs": [],
   "source": []
  }
 ],
 "metadata": {
  "kernelspec": {
   "display_name": "Python 3",
   "language": "python",
   "name": "python3"
  },
  "language_info": {
   "codemirror_mode": {
    "name": "ipython",
    "version": 3
   },
   "file_extension": ".py",
   "mimetype": "text/x-python",
   "name": "python",
   "nbconvert_exporter": "python",
   "pygments_lexer": "ipython3",
   "version": "3.8.8"
  }
 },
 "nbformat": 4,
 "nbformat_minor": 4
}
