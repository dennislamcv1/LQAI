{
 "cells": [
  {
   "cell_type": "code",
   "execution_count": null,
   "metadata": {},
   "outputs": [],
   "source": [
    "'''\n",
    "a) Create a dictionary called \"rotation_speed\" with the key-value pair planet:speed.\n",
    "\n",
    "Planet\n",
    "Mercury:    6.73\n",
    "Venus:      4.05\n",
    "Earth:      1,040\n",
    "Mars:       538\n",
    "Jupiter:    28,325\n",
    "Saturn:     22,892\n",
    "Uranus:     9,193\n",
    "Neptune:    6,039\n",
    "'''\n",
    "rotation_speed = {'Mercury': 6.73, 'Venus': 4.05, 'Earth':  1040, 'Mars':  538, 'Jupiter': 28325,\n",
    "'Saturn':  22892, 'Uranus': 9193, 'Neptune':  6039}"
   ]
  },
  {
   "cell_type": "code",
   "execution_count": null,
   "metadata": {},
   "outputs": [],
   "source": [
    "'''\n",
    "b) Store the keys of the dictionary into a list called 'planets'. Store the values into a list called 'speeds'.\n",
    "HINT: Be sure that these variables are stored as lists. You can use list(x) on any lisst-like object x to convert it into a list.\n",
    "'''\n",
    "planets = list(rotation_speed.keys())\n",
    "speeds = list(rotation_speed.values())"
   ]
  },
  {
   "cell_type": "code",
   "execution_count": null,
   "metadata": {},
   "outputs": [],
   "source": [
    "'''\n",
    "c) Extract the supply for 'Mars' and store it into a variable called 'mars_speed'\n",
    "'''\n",
    "mars_speed = rotation_speed['Mars']"
   ]
  }
 ],
 "metadata": {
  "kernelspec": {
   "display_name": "Python 3",
   "language": "python",
   "name": "python3"
  },
  "language_info": {
   "codemirror_mode": {
    "name": "ipython",
    "version": 3
   },
   "file_extension": ".py",
   "mimetype": "text/x-python",
   "name": "python",
   "nbconvert_exporter": "python",
   "pygments_lexer": "ipython3",
   "version": "3.7.6"
  }
 },
 "nbformat": 4,
 "nbformat_minor": 4
}
