{
 "cells": [
  {
   "cell_type": "code",
   "execution_count": null,
   "metadata": {},
   "outputs": [],
   "source": [
    "'''\n",
    "Define a function called 'dictionary_creator' to take in two lists and return a dictionary\n",
    "with key-value pair list1:list2. If the two lists are not the same size, return the word \"Error\"\n",
    "instead. Use a for loop. For those who are interested, there is a way to solve this problem using\n",
    "'dictionary comprehensions', which are similar in spirit to list comprehensions. \n",
    "'''\n",
    "### dictionary_creator(['a', 'b', 'c'], [1,2,3]) should return {'a': 1, 'b': 2, 'c': 3}\n",
    "### dictionary_creator(['monkeys', 'pirates', 'captains'], [1,2]) should return \"Error\"\n",
    "def dictionary_creator(list1, list2):\n",
    "    if len(list1) != len(list2):\n",
    "        return \"Error\"\n",
    "    else:\n",
    "        temp_dict = {}\n",
    "        for i in range(len(list1)):\n",
    "            temp_dict[list1[i]] = list2[i]\n",
    "        return temp_dict"
   ]
  }
 ],
 "metadata": {
  "kernelspec": {
   "display_name": "Python 3",
   "language": "python",
   "name": "python3"
  },
  "language_info": {
   "codemirror_mode": {
    "name": "ipython",
    "version": 3
   },
   "file_extension": ".py",
   "mimetype": "text/x-python",
   "name": "python",
   "nbconvert_exporter": "python",
   "pygments_lexer": "ipython3",
   "version": "3.7.6"
  }
 },
 "nbformat": 4,
 "nbformat_minor": 4
}
