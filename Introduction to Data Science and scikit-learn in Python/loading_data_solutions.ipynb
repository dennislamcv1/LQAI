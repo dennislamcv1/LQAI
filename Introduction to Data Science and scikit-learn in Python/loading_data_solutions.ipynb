{
 "cells": [
  {
   "cell_type": "code",
   "execution_count": 1,
   "metadata": {},
   "outputs": [],
   "source": [
    "'''\n",
    "A) Find the breast cancer dataset on the following page: https://scikit-learn.org/stable/modules/classes.html#module-sklearn.datasets\n",
    "Store the features into the variable 'X' and the target into the varaible 'Y'.\n",
    "Hint: Make sure to import the dataset before loading it.\n",
    "'''\n",
    "from sklearn.datasets import load_breast_cancer\n",
    "X, y = load_breast_cancer(as_frame = True, return_X_y=True)"
   ]
  },
  {
   "cell_type": "code",
   "execution_count": 2,
   "metadata": {},
   "outputs": [],
   "source": [
    "'''\n",
    "B) What percentage of people in this dataset have a malignant tumor?\n",
    "Store the answer into a variable called 'mean_cancer'\n",
    "'''\n",
    "mean_cancer = y.mean()"
   ]
  },
  {
   "cell_type": "code",
   "execution_count": 3,
   "metadata": {},
   "outputs": [],
   "source": [
    "\n",
    "'''\n",
    "C) Transform the 'mean_radius' column to be between 0 and 1 by dividing by it's sum.\n",
    "We'll perform fancier feature normalization in the next module, but this is a valid approach.\n",
    "'''\n",
    "X['mean radius'] = X['mean radius'] / X['mean radius'].sum()"
   ]
  }
 ],
 "metadata": {
  "kernelspec": {
   "display_name": "Python 3",
   "language": "python",
   "name": "python3"
  },
  "language_info": {
   "codemirror_mode": {
    "name": "ipython",
    "version": 3
   },
   "file_extension": ".py",
   "mimetype": "text/x-python",
   "name": "python",
   "nbconvert_exporter": "python",
   "pygments_lexer": "ipython3",
   "version": "3.8.8"
  }
 },
 "nbformat": 4,
 "nbformat_minor": 4
}
