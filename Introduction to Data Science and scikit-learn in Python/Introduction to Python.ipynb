{
 "cells": [
  {
   "cell_type": "code",
   "execution_count": 1,
   "id": "1f12ba8c",
   "metadata": {},
   "outputs": [
    {
     "name": "stdout",
     "output_type": "stream",
     "text": [
      "15\n"
     ]
    }
   ],
   "source": [
    "total = 5\n",
    "\n",
    "for n in range(1,5):\n",
    "\n",
    "   total = total + n\n",
    "\n",
    "print(total) "
   ]
  },
  {
   "cell_type": "code",
   "execution_count": 3,
   "id": "c023af4c",
   "metadata": {},
   "outputs": [
    {
     "name": "stdout",
     "output_type": "stream",
     "text": [
      "hummingbirds\n"
     ]
    }
   ],
   "source": [
    "birds = ['parrots', 'finches', 'owls']\n",
    "\n",
    "birds.append('hummingbirds')\n",
    "\n",
    "birds.append('hawks')\n",
    "\n",
    "print(birds[3])"
   ]
  },
  {
   "cell_type": "code",
   "execution_count": 6,
   "id": "ca79cfc4",
   "metadata": {},
   "outputs": [
    {
     "data": {
      "text/plain": [
       "{'parrots': 'red', 'finches': 'blue', 'owls': 'white'}"
      ]
     },
     "execution_count": 6,
     "metadata": {},
     "output_type": "execute_result"
    }
   ],
   "source": [
    "birds = ['parrots', 'finches', 'owls']\n",
    "\n",
    "colors = ['red', 'blue', 'white']\n",
    "\n",
    "fav_birds = {}\n",
    "\n",
    "for i in range(3):\n",
    "\n",
    "    fav_birds[birds[i]] = colors[i]\n",
    "    \n",
    "fav_birds"
   ]
  },
  {
   "cell_type": "code",
   "execution_count": 7,
   "id": "b1749e13",
   "metadata": {},
   "outputs": [
    {
     "name": "stdout",
     "output_type": "stream",
     "text": [
      "0.00342\n"
     ]
    }
   ],
   "source": [
    "ml = 0.00341932\n",
    "\n",
    "print(\"{0:.3g}\".format(ml))"
   ]
  },
  {
   "cell_type": "code",
   "execution_count": 8,
   "id": "4e81c64a",
   "metadata": {},
   "outputs": [
    {
     "name": "stdout",
     "output_type": "stream",
     "text": [
      "parrots parrots\n",
      "finches finches\n",
      "owls owls\n"
     ]
    }
   ],
   "source": [
    "birds = ['parrots', 'finches', 'owls']\n",
    "\n",
    "for bird in birds:\n",
    "\n",
    "    for bird2 in birds:\n",
    "\n",
    "        if bird == bird2:\n",
    "\n",
    "              print(bird, bird2)"
   ]
  },
  {
   "cell_type": "code",
   "execution_count": 9,
   "id": "ed585b71",
   "metadata": {},
   "outputs": [
    {
     "data": {
      "text/plain": [
       "14"
      ]
     },
     "execution_count": 9,
     "metadata": {},
     "output_type": "execute_result"
    }
   ],
   "source": [
    "def f(end):\n",
    "\n",
    "    total = 0\n",
    "\n",
    "    for n in range(end+1):\n",
    "\n",
    "        total = total + n*n\n",
    "\n",
    "    return total\n",
    "\n",
    "f(3)"
   ]
  },
  {
   "cell_type": "code",
   "execution_count": 12,
   "id": "85f47e62",
   "metadata": {},
   "outputs": [
    {
     "data": {
      "text/plain": [
       "['parrots', 'finches', 'owls', 'seagulls', 'egrets', 'penguins', 'ostriches']"
      ]
     },
     "execution_count": 12,
     "metadata": {},
     "output_type": "execute_result"
    }
   ],
   "source": [
    "birds1 = ['parrots', 'finches', 'owls']\n",
    "\n",
    "birds2 = ['seagulls', 'egrets', 'penguins', 'ostriches']\n",
    "\n",
    "birds1 + birds2"
   ]
  },
  {
   "cell_type": "code",
   "execution_count": 13,
   "id": "53612a8e",
   "metadata": {},
   "outputs": [
    {
     "data": {
      "text/plain": [
       "8"
      ]
     },
     "execution_count": 13,
     "metadata": {},
     "output_type": "execute_result"
    }
   ],
   "source": [
    "import numpy\n",
    "\n",
    "def f(x):\n",
    "\n",
    "    return numpy.power(x[2] - x[1], x[0])\n",
    "\n",
    "x = [1, 2, 10, 20, 40]\n",
    "\n",
    "f(x)"
   ]
  },
  {
   "cell_type": "code",
   "execution_count": null,
   "id": "844c0e9a",
   "metadata": {},
   "outputs": [],
   "source": []
  }
 ],
 "metadata": {
  "kernelspec": {
   "display_name": "Python 3",
   "language": "python",
   "name": "python3"
  },
  "language_info": {
   "codemirror_mode": {
    "name": "ipython",
    "version": 3
   },
   "file_extension": ".py",
   "mimetype": "text/x-python",
   "name": "python",
   "nbconvert_exporter": "python",
   "pygments_lexer": "ipython3",
   "version": "3.8.8"
  }
 },
 "nbformat": 4,
 "nbformat_minor": 5
}
