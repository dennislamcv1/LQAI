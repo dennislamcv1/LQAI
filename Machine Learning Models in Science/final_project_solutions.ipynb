{
 "cells": [
  {
   "cell_type": "code",
   "execution_count": 1,
   "metadata": {},
   "outputs": [],
   "source": [
    "### Importing modules and loading in data\n",
    "\n",
    "import sklearn\n",
    "import numpy \n",
    "from sklearn import datasets\n",
    "\n",
    "data = datasets.load_diabetes()"
   ]
  },
  {
   "cell_type": "code",
   "execution_count": 2,
   "metadata": {},
   "outputs": [],
   "source": [
    "## Part A (20 pts)\n",
    "\n",
    "'''\n",
    "Use a train/test split to divide the data into X_train, X_test, y_train, and y_test \n",
    "correpsonding to the input features and the output vector. \n",
    "For testing purposes, use a random state of 10.\n",
    "'''\n",
    "\n",
    "from sklearn.model_selection import train_test_split\n",
    "\n",
    "X = data['data']\n",
    "y = data['target']\n",
    "\n",
    "X_train, X_test, y_train, y_test = train_test_split(X, y, random_state=10)"
   ]
  },
  {
   "cell_type": "code",
   "execution_count": 3,
   "metadata": {},
   "outputs": [],
   "source": [
    "## Part B (20 pts)\n",
    "\n",
    "'''\n",
    "Run a simple linear regresison algorithm on the input data. \n",
    "Store the fitted model in the variable 'reg'.\n",
    "\n",
    "Hint: You mauy refer to the documentation on the following page: \n",
    "https://scikit-learn.org/stable/modules/generated/sklearn.linear_model.LinearRegression.html\n",
    "'''\n",
    "\n",
    "from sklearn.linear_model import LinearRegression\n",
    "reg = LinearRegression().fit(X_train, y_train)"
   ]
  },
  {
   "cell_type": "code",
   "execution_count": 4,
   "metadata": {},
   "outputs": [],
   "source": [
    "## Part C (20 pts)\n",
    "\n",
    "'''\n",
    "Run a random forest regressor on the input data. \n",
    "Store the fitted model in the variable 'rf'.\n",
    "Use a max_depth of 5 and a random state of 42.\n",
    "\n",
    "Hint: You may refer to the documentation on the following page: \n",
    "https://scikit-learn.org/stable/modules/generated/sklearn.ensemble.RandomForestRegressor.html\n",
    "'''\n",
    "\n",
    "from sklearn.ensemble import RandomForestRegressor\n",
    "rf = RandomForestRegressor(max_depth=5, random_state=42).fit(X_train, y_train)"
   ]
  },
  {
   "cell_type": "code",
   "execution_count": 5,
   "metadata": {},
   "outputs": [],
   "source": [
    "## Part D (20 pts)\n",
    "\n",
    "'''\n",
    "Run the MLP regresison algorithm on the input data. \n",
    "Use a hidden layer size of 10, stochastic gradient descent solver, and a random state of 42.\n",
    "Store the fitted model in the variable 'nn'. \n",
    "\n",
    "Hint: You may refer to the docomentation on the following page: \n",
    "https://scikit-learn.org/stable/modules/generated/sklearn.neural_network.MLPRegressor.html#sklearn.neural_network.MLPRegressor\n",
    "'''\n",
    "\n",
    "from sklearn.neural_network import MLPRegressor\n",
    "nn = MLPRegressor(hidden_layer_sizes = 10, solver = 'sgd', random_state=42).fit(X_train, y_train)"
   ]
  },
  {
   "cell_type": "code",
   "execution_count": 6,
   "metadata": {},
   "outputs": [],
   "source": [
    "## Part E (20 pts)\n",
    "\n",
    "'''\n",
    "Let's compare the results of the three algorithms on the test set.\n",
    "There are numerous ways we can compare accuracy, but for the purposes of this\n",
    "exercise we're going to use the built in 'score' method from the scikit-learn library.\n",
    "\n",
    "Create a new variable called 'best'. \n",
    "Set it equal to 0 if the linear regressor performes best,\n",
    "1 if the random forest performs best, or\n",
    "2 if the neural network performs best.\n",
    "\n",
    "Hint: You may refer the 'score' method at the following page:\n",
    "https://scikit-learn.org/stable/modules/generated/sklearn.linear_model.LinearRegression.html#sklearn.linear_model.LinearRegression.score\n",
    "'''\n",
    "\n",
    "acc_nn = nn.score(X_test, y_test)\n",
    "acc_reg = reg.score(X_test, y_test)\n",
    "acc_rf = rf.score(X_test, y_test)\n",
    "best = 0"
   ]
  }
 ],
 "metadata": {
  "kernelspec": {
   "display_name": "Python 3",
   "language": "python",
   "name": "python3"
  },
  "language_info": {
   "codemirror_mode": {
    "name": "ipython",
    "version": 3
   },
   "file_extension": ".py",
   "mimetype": "text/x-python",
   "name": "python",
   "nbconvert_exporter": "python",
   "pygments_lexer": "ipython3",
   "version": "3.8.8"
  }
 },
 "nbformat": 4,
 "nbformat_minor": 4
}
