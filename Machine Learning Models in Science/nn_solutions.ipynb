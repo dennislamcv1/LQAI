{
 "cells": [
  {
   "cell_type": "code",
   "execution_count": 1,
   "metadata": {},
   "outputs": [],
   "source": [
    "### Loading packages and importing data\n",
    "from sklearn import datasets\n",
    "import numpy as np\n",
    "import sklearn\n",
    "data = datasets.load_breast_cancer()"
   ]
  },
  {
   "cell_type": "code",
   "execution_count": 2,
   "metadata": {},
   "outputs": [],
   "source": [
    "# Part A\n",
    "'''\n",
    "When creating models, it's important to split our data into a train and test set.\n",
    "You can read more about it here: https://scikit-learn.org/stable/modules/generated/sklearn.model_selection.train_test_split.html\n",
    "Store the data into X_train, X_test, y_train, and y_test arrays correpsonding to the input features and the output vector.\n",
    "Use a random state of 1. \n",
    "We have already imported the module for you\n",
    "'''\n",
    "from sklearn.model_selection import train_test_split\n",
    "X = data['data']\n",
    "y = data['target']\n",
    "X_train, X_test, y_train, y_test = train_test_split(X, y, random_state=11)"
   ]
  },
  {
   "cell_type": "code",
   "execution_count": 3,
   "metadata": {},
   "outputs": [],
   "source": [
    "# Part B\n",
    "'''\n",
    "Run a MLP classifier on the input data. \n",
    "Use a hidden layer size of 30, stochastic gradient descent solver, and a random state of 42.\n",
    "Store the fitted model in the variable 'nn'. \n",
    "\n",
    "Hint: Look at the documentation on the following page: \n",
    "https://scikit-learn.org/stable/modules/generated/sklearn.neural_network.MLPClassifier.html#sklearn.neural_network.MLPRegressor\n",
    "'''\n",
    "from sklearn.neural_network import MLPClassifier\n",
    "nn = MLPClassifier(hidden_layer_sizes = 30, solver = 'sgd', random_state=42).fit(X_train, y_train)"
   ]
  },
  {
   "cell_type": "code",
   "execution_count": 4,
   "metadata": {},
   "outputs": [],
   "source": [
    "# Part C\n",
    "'''\n",
    "Make predictions on the test set using the fitted network.\n",
    "Store the predictions in a variable called 'pred'.\n",
    "Find the accuracy of the model on the test set and store in a variable called 'accuracy'.\n",
    "'''\n",
    "pred = nn.predict(X_test)\n",
    "accuracy = nn.score(X_test, y_test)"
   ]
  }
 ],
 "metadata": {
  "kernelspec": {
   "display_name": "Python 3",
   "language": "python",
   "name": "python3"
  },
  "language_info": {
   "codemirror_mode": {
    "name": "ipython",
    "version": 3
   },
   "file_extension": ".py",
   "mimetype": "text/x-python",
   "name": "python",
   "nbconvert_exporter": "python",
   "pygments_lexer": "ipython3",
   "version": "3.8.8"
  }
 },
 "nbformat": 4,
 "nbformat_minor": 4
}
