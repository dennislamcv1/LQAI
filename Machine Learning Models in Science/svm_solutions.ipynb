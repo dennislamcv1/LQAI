{
 "cells": [
  {
   "cell_type": "code",
   "execution_count": 1,
   "metadata": {},
   "outputs": [],
   "source": [
    "### Importing Packages\n",
    "from sklearn.datasets import load_breast_cancer\n",
    "from sklearn import svm\n",
    "data = load_breast_cancer()"
   ]
  },
  {
   "cell_type": "code",
   "execution_count": 2,
   "metadata": {},
   "outputs": [],
   "source": [
    "# Part 1\n",
    "'''\n",
    "Store the feature data into a variable called 'X' and the target data into a variable called 'y'.\n",
    "'''\n",
    "X = data.data\n",
    "y = data.target"
   ]
  },
  {
   "cell_type": "code",
   "execution_count": 3,
   "metadata": {},
   "outputs": [],
   "source": [
    "# Part 2\n",
    "'''\n",
    "Fit a linear SVM classifier (from the scikit-learn library) on our dataset. \n",
    "After the model is fit, use it to generate predictions on our dataset and saved it in a variable called 'y_pred'.\n",
    "Hint: Make sure to import the right module first. You'll want to use the classifer found here:\n",
    "https://scikit-learn.org/stable/modules/generated/sklearn.svm.SVC.html\n",
    "'''\n",
    "clf = svm.SVC()\n",
    "clf.fit(X,y)\n",
    "y_pred = clf.predict(X)"
   ]
  }
 ],
 "metadata": {
  "kernelspec": {
   "display_name": "Python 3",
   "language": "python",
   "name": "python3"
  },
  "language_info": {
   "codemirror_mode": {
    "name": "ipython",
    "version": 3
   },
   "file_extension": ".py",
   "mimetype": "text/x-python",
   "name": "python",
   "nbconvert_exporter": "python",
   "pygments_lexer": "ipython3",
   "version": "3.8.8"
  }
 },
 "nbformat": 4,
 "nbformat_minor": 4
}
